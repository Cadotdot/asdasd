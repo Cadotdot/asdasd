{
 "cells": [
  {
   "cell_type": "code",
   "execution_count": null,
   "id": "b396ea99",
   "metadata": {},
   "outputs": [],
   "source": [
    "Yang benar apa pun atau apapun?\n",
    "Hasil gambar untuk apapun\n",
    "Kesimpulannya, antara apapun dan apa pun, penulisan yang benar adalah apa pun.\n",
    "asdhasd apapun jawabannya pasti ok"
   ]
  },
  {
   "cell_type": "markdown",
   "id": "6d8024b5",
   "metadata": {},
   "source": [
    "Hallo test tadi 5 insertions skrg berapa ya"
   ]
  }
 ],
 "metadata": {
  "kernelspec": {
   "display_name": "Python 3",
   "language": "python",
   "name": "python3"
  },
  "language_info": {
   "codemirror_mode": {
    "name": "ipython",
    "version": 3
   },
   "file_extension": ".py",
   "mimetype": "text/x-python",
   "name": "python",
   "nbconvert_exporter": "python",
   "pygments_lexer": "ipython3",
   "version": "3.8.8"
  }
 },
 "nbformat": 4,
 "nbformat_minor": 5
}
